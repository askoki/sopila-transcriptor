{
 "cells": [
  {
   "cell_type": "code",
   "execution_count": 1,
   "metadata": {},
   "outputs": [],
   "source": [
    "import os\n",
    "import sys\n",
    "# path to settings\n",
    "sys.path.insert(0, os.path.split(os.getcwd())[0])\n",
    "# path to src/models\n",
    "sys.path.insert(1, os.path.join(os.path.split(os.getcwd())[0], 'src', 'models'))\n",
    "sys.path.insert(2, os.path.join(os.path.split(os.getcwd())[0], 'src', 'features'))\n",
    "sys.path.insert(3, os.path.join(os.path.split(os.getcwd())[0], 'src', 'utils'))"
   ]
  },
  {
   "cell_type": "code",
   "execution_count": 2,
   "metadata": {},
   "outputs": [],
   "source": [
    "timeframe = 10\n",
    "class_num = str(13)"
   ]
  },
  {
   "cell_type": "code",
   "execution_count": 3,
   "metadata": {},
   "outputs": [],
   "source": [
    "import subprocess"
   ]
  },
  {
   "cell_type": "code",
   "execution_count": 6,
   "metadata": {},
   "outputs": [],
   "source": [
    "def create_data(timeframe):\n",
    "#     # 1. step cut recordings\n",
    "#     print('1. Cutting recordings')\n",
    "#     result = subprocess.call(\n",
    "#         ['python', 'cut_original_recordings.py', str(timeframe)], \n",
    "#         cwd=os.path.join('..', 'src', 'features')\n",
    "#     )\n",
    "#     print(result)\n",
    "\n",
    "    print('2. Making amplitude arrays')\n",
    "    result = subprocess.call(\n",
    "        ['python', 'make_amplitude_array.py'], \n",
    "        cwd=os.path.join('..', 'src', 'features')\n",
    "    )\n",
    "    print(result)\n",
    "\n",
    "\n",
    "def create_alternate_data(timeframe):\n",
    "    # 1. step cut recordings\n",
    "    print('6.a Cutting recordings')\n",
    "    result = subprocess.call(\n",
    "        ['python', 'cut_original_recordings.py', str(timeframe), 'alternative'], \n",
    "        cwd=os.path.join('..', 'src', 'features')\n",
    "    )\n",
    "    print(result)\n",
    "\n",
    "    # 2. step make spectrogram images from cut recordings\n",
    "    print('6.b Making spectrogram images from cut recordings...')\n",
    "    result = subprocess.call(\n",
    "        ['python', 'make_spectrogram.py', 'alternative'], \n",
    "        cwd=os.path.join('..', 'src', 'features')\n",
    "    )\n",
    "    print(result)\n",
    "\n",
    "    # 4. apply filter to the images\n",
    "    print('6.c Applying filter to the images...')\n",
    "    result = subprocess.call(\n",
    "        ['python', 'apply_filter.py', 'alternative'], \n",
    "        cwd=os.path.join('..', 'src', 'features')\n",
    "    )\n",
    "    print(result)"
   ]
  },
  {
   "cell_type": "code",
   "execution_count": 15,
   "metadata": {},
   "outputs": [
    {
     "name": "stdout",
     "output_type": "stream",
     "text": [
      "2. Making amplitude arrays\n",
      "0\n",
      "3. Train dataset\n",
      "1\n"
     ]
    }
   ],
   "source": [
    "# create_data(timeframe)\n",
    "\n",
    "# print('5. Sort train, validation and test data')\n",
    "# result = subprocess.call(\n",
    "#     ['python', 'create_train_test_data.py'], \n",
    "#     cwd=os.path.join('..', 'src', 'features')\n",
    "# )\n",
    "# print(result)\n",
    "    \n",
    "# ------------- CREATE alternate data (real data)\n",
    "\n",
    "# print('6. Create alternate data')\n",
    "# result = create_alternate_data(timeframe)\n",
    "# print(result)\n",
    "\n",
    "model_name = str(timeframe) + 'ms_' + class_num + '_classes_random_forest'\n",
    "\n",
    "# 9. train model\n",
    "print('3. Train dataset')\n",
    "result = subprocess.call(\n",
    "    ['python', 'train_model.py', model_name], \n",
    "    cwd=os.path.join('..', 'src', 'models')\n",
    ")\n",
    "print(result)\n",
    "# model_name = 'model_' + str(timeframe) + 'ms_' + class_num + '_classes'\n",
    "# # 10. predict model\n",
    "# print('8. Predict dataset')\n",
    "# result = subprocess.call(\n",
    "#     ['python', 'predict_model.py', class_num, model_name, str(timeframe) + 'ms_25fil'], \n",
    "#     cwd=os.path.join('..', 'src', 'models')\n",
    "# )\n",
    "# print(result)"
   ]
  },
  {
   "cell_type": "code",
   "execution_count": 36,
   "metadata": {},
   "outputs": [
    {
     "name": "stdout",
     "output_type": "stream",
     "text": [
      "8. Predict dataset\n",
      "0\n"
     ]
    }
   ],
   "source": [
    "model_name = 'model_' + str(timeframe) + 'ms_13_classes'\n",
    "# 10. predict model\n",
    "print('8. Predict dataset')\n",
    "result = subprocess.call(\n",
    "    ['python', 'predict_model.py', '13', model_name, str(timeframe) + 'ms_25fil'], \n",
    "    cwd=os.path.join('..', 'src', 'models')\n",
    ")\n",
    "print(result)"
   ]
  }
 ],
 "metadata": {
  "kernelspec": {
   "display_name": "Python [conda env:sopila_env]",
   "language": "python",
   "name": "conda-env-sopila_env-py"
  },
  "language_info": {
   "codemirror_mode": {
    "name": "ipython",
    "version": 3
   },
   "file_extension": ".py",
   "mimetype": "text/x-python",
   "name": "python",
   "nbconvert_exporter": "python",
   "pygments_lexer": "ipython3",
   "version": "3.6.7"
  }
 },
 "nbformat": 4,
 "nbformat_minor": 2
}
