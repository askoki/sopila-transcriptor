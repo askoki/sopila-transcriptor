{
 "cells": [
  {
   "cell_type": "code",
   "execution_count": 3,
   "metadata": {},
   "outputs": [],
   "source": [
    "import os\n",
    "import sys\n",
    "# path to settings\n",
    "sys.path.insert(0, os.path.split(os.getcwd())[0])\n",
    "# path to src/models\n",
    "sys.path.insert(1, os.path.join(os.path.split(os.getcwd())[0], 'src', 'models'))\n",
    "sys.path.insert(2, os.path.join(os.path.split(os.getcwd())[0], 'src', 'features'))\n",
    "sys.path.insert(3, os.path.join(os.path.split(os.getcwd())[0], 'src', 'utils'))"
   ]
  },
  {
   "cell_type": "code",
   "execution_count": 4,
   "metadata": {},
   "outputs": [],
   "source": [
    "timeframe = 10\n",
    "class_num = str(49)"
   ]
  },
  {
   "cell_type": "code",
   "execution_count": 5,
   "metadata": {},
   "outputs": [],
   "source": [
    "import subprocess"
   ]
  },
  {
   "cell_type": "code",
   "execution_count": 6,
   "metadata": {},
   "outputs": [],
   "source": [
    "def create_data(timeframe):\n",
    "    # 1. step cut recordings\n",
    "    print('1. Cutting recordings')\n",
    "    result = subprocess.call(\n",
    "        ['python', 'cut_original_recordings.py', str(timeframe)], \n",
    "        cwd=os.path.join('..', 'src', 'features')\n",
    "    )\n",
    "    print(result)\n",
    "    \n",
    "    # 1.b level amplitude of combined recordings\n",
    "    print('1.b Level combined recordings')\n",
    "    result = subprocess.call(\n",
    "        ['python', 'level_combined_recordings.py'], \n",
    "        cwd=os.path.join('..', 'src', 'features')\n",
    "    )\n",
    "    print(result)\n",
    "    \n",
    "    # 2. step make spectrogram images from cut recordings\n",
    "    print('2. Making spectrogram images from cut recordings...')\n",
    "    result = subprocess.call(\n",
    "        ['python', 'make_spectrogram.py'], \n",
    "        cwd=os.path.join('..', 'src', 'features')\n",
    "    )\n",
    "    print(result)\n",
    "\n",
    "    # 3. make filter (if it does not exist)\n",
    "    print('3. Making filter...')\n",
    "    result = subprocess.call(\n",
    "        ['python', 'make_filter.py'], \n",
    "        cwd=os.path.join('..', 'src', 'utils')\n",
    "    )\n",
    "    print(result)\n",
    "\n",
    "    # 4. apply filter to the images\n",
    "    print('4. Applying filter to the images...')\n",
    "    result = subprocess.call(\n",
    "        ['python', 'apply_filter.py'], \n",
    "        cwd=os.path.join('..', 'src', 'features')\n",
    "    )\n",
    "    print(result)\n",
    "\n",
    "def create_alternate_data(timeframe):\n",
    "    ## 1. step cut recordings\n",
    "    #print('6.a Cutting recordings')\n",
    "    #result = subprocess.call(\n",
    "    #    ['python', 'cut_original_recordings.py', str(timeframe), 'alternative'], \n",
    "    #    cwd=os.path.join('..', 'src', 'features')\n",
    "    #)\n",
    "    #print(result)\n",
    "\n",
    "    # 2. step make spectrogram images from cut recordings\n",
    "    print('6.b Making spectrogram images from cut recordings...')\n",
    "    result = subprocess.call(\n",
    "        ['python', 'make_spectrogram.py', 'alternative'], \n",
    "        cwd=os.path.join('..', 'src', 'features')\n",
    "    )\n",
    "    print(result)\n",
    "\n",
    "    # 4. apply filter to the images\n",
    "    print('6.c Applying filter to the images...')\n",
    "    result = subprocess.call(\n",
    "        ['python', 'apply_filter.py', 'alternative'], \n",
    "        cwd=os.path.join('..', 'src', 'features')\n",
    "    )\n",
    "    print(result)"
   ]
  },
  {
   "cell_type": "code",
   "execution_count": 5,
   "metadata": {},
   "outputs": [
    {
     "name": "stdout",
     "output_type": "stream",
     "text": [
      "1. Cutting recordings\n",
      "0\n",
      "1.b Level combined recordings\n",
      "0\n",
      "2. Making spectrogram images from cut recordings...\n",
      "0\n",
      "3. Making filter...\n",
      "0\n",
      "4. Applying filter to the images...\n",
      "0\n",
      "5. Sort train, validation and test data\n",
      "0\n",
      "6. Create alternate data\n",
      "6.b Making spectrogram images from cut recordings...\n",
      "0\n",
      "6.c Applying filter to the images...\n",
      "0\n",
      "None\n",
      "7. Train dataset\n",
      "0\n",
      "8. Predict dataset\n",
      "0\n"
     ]
    }
   ],
   "source": [
    "create_data(timeframe)\n",
    "\n",
    "print('5. Sort train, validation and test data')\n",
    "result = subprocess.call(\n",
    "    ['python', 'sort_train_validation_test_data.py'], \n",
    "    cwd=os.path.join('..', 'src', 'features')\n",
    ")\n",
    "print(result)\n",
    "    \n",
    "# ------------- CREATE alternate data (real data)\n",
    "\n",
    "print('6. Create alternate data')\n",
    "result = create_alternate_data(timeframe)\n",
    "print(result)\n",
    "\n",
    "model_name = str(timeframe) + 'ms_' + class_num + '_classes_stereo_gain_weak'\n",
    "\n",
    "# 9. train model\n",
    "print('7. Train dataset')\n",
    "result = subprocess.call(\n",
    "    ['python', 'train_model.py', class_num, model_name], \n",
    "    cwd=os.path.join('..', 'src', 'models')\n",
    ")\n",
    "print(result)\n",
    "model_name = 'model_' + str(timeframe) + 'ms_' + class_num + '_classes_stereo_gain_weak'\n",
    "# 10. predict model\n",
    "print('8. Predict dataset')\n",
    "result = subprocess.call(\n",
    "    ['python', 'predict_model.py', class_num, model_name, str(timeframe) + 'ms_stereo_gain_weak'], \n",
    "    cwd=os.path.join('..', 'src', 'models')\n",
    ")\n",
    "print(result)"
   ]
  },
  {
   "cell_type": "code",
   "execution_count": 7,
   "metadata": {},
   "outputs": [
    {
     "name": "stdout",
     "output_type": "stream",
     "text": [
      "8. Predict dataset\n",
      "0\n"
     ]
    }
   ],
   "source": [
    "model_name = 'model_' + str(timeframe) + 'ms_' + class_num + '_classes_stereo_gain_weak'\n",
    "# 10. predict model\n",
    "print('8. Predict dataset')\n",
    "result = subprocess.call(\n",
    "    ['python', 'predict_model.py', class_num, model_name, str(timeframe) + 'ms_stereo_gain_weak'], \n",
    "    cwd=os.path.join('..', 'src', 'models')\n",
    ")\n",
    "print(result)"
   ]
  }
 ],
 "metadata": {
  "kernelspec": {
   "display_name": "Sopila env",
   "language": "python",
   "name": "sopila_env"
  },
  "language_info": {
   "codemirror_mode": {
    "name": "ipython",
    "version": 3
   },
   "file_extension": ".py",
   "mimetype": "text/x-python",
   "name": "python",
   "nbconvert_exporter": "python",
   "pygments_lexer": "ipython3",
   "version": "3.5.6"
  }
 },
 "nbformat": 4,
 "nbformat_minor": 2
}
